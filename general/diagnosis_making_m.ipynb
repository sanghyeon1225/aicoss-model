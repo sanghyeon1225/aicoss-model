{
 "cells": [
  {
   "cell_type": "markdown",
   "id": "6cfe1498-f0cb-4dea-9f09-f6d6a46e69d5",
   "metadata": {},
   "source": [
    "## Combbine all diagnosis"
   ]
  },
  {
   "cell_type": "markdown",
   "id": "bd11cf82",
   "metadata": {},
   "source": [
    "This method take diagnosis from images, clinical, and diagnosis sheet, and creates one ground truth (where all three agree) and one majority vote (where two agree) diagnosis files. "
   ]
  },
  {
   "cell_type": "code",
   "execution_count": 7,
   "id": "efe04c25-57d6-413d-941d-253dae962131",
   "metadata": {},
   "outputs": [],
   "source": [
    "# 이 셀만 실행시키면 된다\n",
    "import pandas as pd\n",
    "import math\n",
    "\n",
    "clinical = pd.read_csv(\"D:/Desktop/aicoss-model/ADSP_PHC_COGN.csv\")\n",
    "#this file is the metadata file that one can get from downloading MRI images from ADNI\n",
    "#img = pd.read_csv(\"INSERT_METADATA_FILE_HERE.csv\")\n",
    "comb = pd.read_csv(\"D:/Desktop/aicoss-model/DXSUM.csv\")[[\"RID\", \"PTID\" , \"PHASE\"]]\n",
    "\n",
    "i=pd.read_csv(\"D:/Desktop/aicoss-model/DXSUM.csv\")[[\"PTID\" ,\"DIAGNOSIS\", \"PHASE\"]]\n",
    "i=i.rename(columns = {\"PTID\":\"Subject\"}).rename(columns = { \"DIAGNOSIS\":\"Group\"}).rename(columns={\"PHASE\":\"Phase\"})\n",
    "i = i.drop_duplicates()\n",
    "i['Group'] = i['Group'] - 1\n",
    "\n",
    "# generate csv\n",
    "i[[\"Subject\", \"Group\", \"Phase\"]].to_csv(\"D:/Desktop/aicoss-model/preprocessed/ground_truth.csv\")"
   ]
  },
  {
   "cell_type": "code",
   "execution_count": null,
   "id": "76763ce3",
   "metadata": {},
   "outputs": [],
   "source": [
    "##### 아래 과정 무시 #####"
   ]
  },
  {
   "cell_type": "code",
   "execution_count": null,
   "id": "fe74db0e-9f96-41e6-a694-aec0cbe1605f",
   "metadata": {},
   "outputs": [],
   "source": [
    "\n",
    "\n",
    "def read_diagnose(file_path: str = 'DXSUM_PDXCONV_ADNIALL.csv', verbose=False):\n",
    "    # Read diagnostic summary\n",
    "    diagnostic_summary = pd.read_csv(file_path, index_col='PTID')\n",
    "    diagnostic_summary = diagnostic_summary.sort_values(by=[\"update_stamp\"], ascending=True)\n",
    "    # Create dictionary\n",
    "    diagnostic_dict: dict = {}\n",
    "    for key, data in diagnostic_summary.iterrows():\n",
    "        # Iterate for each row of the document\n",
    "        phase: str = data['PHASE']\n",
    "        diagnosis: float = -1.\n",
    "        diagnosis = data['DIAGNOSIS']\n",
    "       \n",
    "        # Update dictionary\n",
    "        if not math.isnan(diagnosis):\n",
    "            diagnostic_dict[key] = diagnosis\n",
    "    if verbose:\n",
    "        print_diagnostic_dict_summary(diagnostic_dict)\n",
    "    return diagnostic_dict\n",
    "\n",
    "\n",
    "def print_diagnostic_dict_summary(diagnostic_dict: dict):\n",
    "    print(f\"Number of diagnosed patients: {len(diagnostic_dict.items())}\\n\")\n",
    "    n_NL = 0\n",
    "    n_MCI = 0\n",
    "    n_AD = 0\n",
    "    for (key, data) in diagnostic_dict.items():\n",
    "        if data == 1:\n",
    "            n_NL += 1\n",
    "        if data == 2:\n",
    "            n_MCI += 1\n",
    "        if data == 3:\n",
    "            n_AD += 1\n",
    "    print(f\"Number of NL patients: {n_NL}\\n\"\n",
    "          f\"Number of MCI patients: {n_MCI}\\n\"\n",
    "          f\"Number of AD patients: {n_AD}\\n\")"
   ]
  },
  {
   "cell_type": "code",
   "execution_count": 3,
   "id": "3e0aa079-4001-469b-b683-4be139ab5686",
   "metadata": {},
   "outputs": [
    {
     "name": "stdout",
     "output_type": "stream",
     "text": [
      "Number of diagnosed patients: 17\n",
      "\n",
      "Number of NL patients: 6\n",
      "Number of MCI patients: 5\n",
      "Number of AD patients: 6\n",
      "\n"
     ]
    }
   ],
   "source": [
    "d = read_diagnose(\"D:/Desktop/attention_model/DXSUM.csv\")\n",
    "print_diagnostic_dict_summary(d)"
   ]
  },
  {
   "cell_type": "code",
   "execution_count": 4,
   "id": "192733b7-bdca-4fcc-9d83-4fc6dde34615",
   "metadata": {},
   "outputs": [],
   "source": [
    "new = pd.DataFrame.from_dict(d, orient='index').reset_index()"
   ]
  },
  {
   "cell_type": "code",
   "execution_count": 5,
   "id": "7ba6c638-8525-49d5-9dbf-5615406fe8ac",
   "metadata": {},
   "outputs": [
    {
     "data": {
      "text/html": [
       "<div>\n",
       "<style scoped>\n",
       "    .dataframe tbody tr th:only-of-type {\n",
       "        vertical-align: middle;\n",
       "    }\n",
       "\n",
       "    .dataframe tbody tr th {\n",
       "        vertical-align: top;\n",
       "    }\n",
       "\n",
       "    .dataframe thead th {\n",
       "        text-align: right;\n",
       "    }\n",
       "</style>\n",
       "<table border=\"1\" class=\"dataframe\">\n",
       "  <thead>\n",
       "    <tr style=\"text-align: right;\">\n",
       "      <th></th>\n",
       "      <th>RID</th>\n",
       "      <th>PTID</th>\n",
       "      <th>SUBJID</th>\n",
       "      <th>PHASE</th>\n",
       "      <th>VISCODE</th>\n",
       "      <th>VISCODE2</th>\n",
       "      <th>EXAMDATE</th>\n",
       "      <th>PHC_Visit</th>\n",
       "      <th>PHC_Age_Cognition</th>\n",
       "      <th>PHC_Diagnosis</th>\n",
       "      <th>...</th>\n",
       "      <th>PHC_EXF</th>\n",
       "      <th>PHC_EXF_SE</th>\n",
       "      <th>PHC_EXF_PreciseFilter</th>\n",
       "      <th>PHC_LAN</th>\n",
       "      <th>PHC_LAN_SE</th>\n",
       "      <th>PHC_LAN_PreciseFilter</th>\n",
       "      <th>PHC_VSP</th>\n",
       "      <th>PHC_VSP_SE</th>\n",
       "      <th>PHC_VSP_PreciseFilter</th>\n",
       "      <th>update_stamp</th>\n",
       "    </tr>\n",
       "  </thead>\n",
       "  <tbody>\n",
       "    <tr>\n",
       "      <th>0</th>\n",
       "      <td>2</td>\n",
       "      <td>011_S_0002</td>\n",
       "      <td>ADNI_011_S_0002</td>\n",
       "      <td>ADNI1</td>\n",
       "      <td>bl</td>\n",
       "      <td>bl</td>\n",
       "      <td>2005-09-08</td>\n",
       "      <td>1</td>\n",
       "      <td>74.439425</td>\n",
       "      <td>1.0</td>\n",
       "      <td>...</td>\n",
       "      <td>0.337</td>\n",
       "      <td>0.372</td>\n",
       "      <td>1.0</td>\n",
       "      <td>0.253</td>\n",
       "      <td>0.301</td>\n",
       "      <td>1.0</td>\n",
       "      <td>0.907</td>\n",
       "      <td>0.703</td>\n",
       "      <td>0.0</td>\n",
       "      <td>2025-05-19 11:07:30.0</td>\n",
       "    </tr>\n",
       "    <tr>\n",
       "      <th>1</th>\n",
       "      <td>2</td>\n",
       "      <td>011_S_0002</td>\n",
       "      <td>ADNI_011_S_0002</td>\n",
       "      <td>ADNI1</td>\n",
       "      <td>m06</td>\n",
       "      <td>m06</td>\n",
       "      <td>2006-03-06</td>\n",
       "      <td>2</td>\n",
       "      <td>74.929500</td>\n",
       "      <td>1.0</td>\n",
       "      <td>...</td>\n",
       "      <td>0.347</td>\n",
       "      <td>0.381</td>\n",
       "      <td>1.0</td>\n",
       "      <td>0.509</td>\n",
       "      <td>0.316</td>\n",
       "      <td>1.0</td>\n",
       "      <td>-0.461</td>\n",
       "      <td>0.435</td>\n",
       "      <td>1.0</td>\n",
       "      <td>2025-05-19 11:07:30.0</td>\n",
       "    </tr>\n",
       "    <tr>\n",
       "      <th>2</th>\n",
       "      <td>2</td>\n",
       "      <td>011_S_0002</td>\n",
       "      <td>ADNI_011_S_0002</td>\n",
       "      <td>ADNI1</td>\n",
       "      <td>m36</td>\n",
       "      <td>m36</td>\n",
       "      <td>2008-08-27</td>\n",
       "      <td>3</td>\n",
       "      <td>77.407255</td>\n",
       "      <td>1.0</td>\n",
       "      <td>...</td>\n",
       "      <td>0.511</td>\n",
       "      <td>0.383</td>\n",
       "      <td>1.0</td>\n",
       "      <td>0.509</td>\n",
       "      <td>0.316</td>\n",
       "      <td>1.0</td>\n",
       "      <td>0.907</td>\n",
       "      <td>0.703</td>\n",
       "      <td>0.0</td>\n",
       "      <td>2025-05-19 11:07:30.0</td>\n",
       "    </tr>\n",
       "    <tr>\n",
       "      <th>3</th>\n",
       "      <td>2</td>\n",
       "      <td>011_S_0002</td>\n",
       "      <td>ADNI_011_S_0002</td>\n",
       "      <td>ADNIGO</td>\n",
       "      <td>m60</td>\n",
       "      <td>m60</td>\n",
       "      <td>2010-09-22</td>\n",
       "      <td>4</td>\n",
       "      <td>79.477070</td>\n",
       "      <td>1.0</td>\n",
       "      <td>...</td>\n",
       "      <td>0.057</td>\n",
       "      <td>0.330</td>\n",
       "      <td>1.0</td>\n",
       "      <td>0.596</td>\n",
       "      <td>0.355</td>\n",
       "      <td>1.0</td>\n",
       "      <td>0.148</td>\n",
       "      <td>0.558</td>\n",
       "      <td>1.0</td>\n",
       "      <td>2025-05-19 11:07:30.0</td>\n",
       "    </tr>\n",
       "    <tr>\n",
       "      <th>4</th>\n",
       "      <td>2</td>\n",
       "      <td>011_S_0002</td>\n",
       "      <td>ADNI_011_S_0002</td>\n",
       "      <td>ADNI2</td>\n",
       "      <td>v06</td>\n",
       "      <td>m72</td>\n",
       "      <td>2011-09-19</td>\n",
       "      <td>5</td>\n",
       "      <td>80.468172</td>\n",
       "      <td>1.0</td>\n",
       "      <td>...</td>\n",
       "      <td>-0.018</td>\n",
       "      <td>0.347</td>\n",
       "      <td>1.0</td>\n",
       "      <td>0.413</td>\n",
       "      <td>0.389</td>\n",
       "      <td>1.0</td>\n",
       "      <td>0.148</td>\n",
       "      <td>0.558</td>\n",
       "      <td>1.0</td>\n",
       "      <td>2025-05-19 11:07:30.0</td>\n",
       "    </tr>\n",
       "  </tbody>\n",
       "</table>\n",
       "<p>5 rows × 27 columns</p>\n",
       "</div>"
      ],
      "text/plain": [
       "   RID        PTID           SUBJID   PHASE VISCODE VISCODE2    EXAMDATE  \\\n",
       "0    2  011_S_0002  ADNI_011_S_0002   ADNI1      bl       bl  2005-09-08   \n",
       "1    2  011_S_0002  ADNI_011_S_0002   ADNI1     m06      m06  2006-03-06   \n",
       "2    2  011_S_0002  ADNI_011_S_0002   ADNI1     m36      m36  2008-08-27   \n",
       "3    2  011_S_0002  ADNI_011_S_0002  ADNIGO     m60      m60  2010-09-22   \n",
       "4    2  011_S_0002  ADNI_011_S_0002   ADNI2     v06      m72  2011-09-19   \n",
       "\n",
       "   PHC_Visit  PHC_Age_Cognition  PHC_Diagnosis  ...  PHC_EXF  PHC_EXF_SE  \\\n",
       "0          1          74.439425            1.0  ...    0.337       0.372   \n",
       "1          2          74.929500            1.0  ...    0.347       0.381   \n",
       "2          3          77.407255            1.0  ...    0.511       0.383   \n",
       "3          4          79.477070            1.0  ...    0.057       0.330   \n",
       "4          5          80.468172            1.0  ...   -0.018       0.347   \n",
       "\n",
       "   PHC_EXF_PreciseFilter  PHC_LAN  PHC_LAN_SE  PHC_LAN_PreciseFilter  PHC_VSP  \\\n",
       "0                    1.0    0.253       0.301                    1.0    0.907   \n",
       "1                    1.0    0.509       0.316                    1.0   -0.461   \n",
       "2                    1.0    0.509       0.316                    1.0    0.907   \n",
       "3                    1.0    0.596       0.355                    1.0    0.148   \n",
       "4                    1.0    0.413       0.389                    1.0    0.148   \n",
       "\n",
       "   PHC_VSP_SE  PHC_VSP_PreciseFilter           update_stamp  \n",
       "0       0.703                    0.0  2025-05-19 11:07:30.0  \n",
       "1       0.435                    1.0  2025-05-19 11:07:30.0  \n",
       "2       0.703                    0.0  2025-05-19 11:07:30.0  \n",
       "3       0.558                    1.0  2025-05-19 11:07:30.0  \n",
       "4       0.558                    1.0  2025-05-19 11:07:30.0  \n",
       "\n",
       "[5 rows x 27 columns]"
      ]
     },
     "execution_count": 5,
     "metadata": {},
     "output_type": "execute_result"
    }
   ],
   "source": [
    "clinical.head()"
   ]
  },
  {
   "cell_type": "code",
   "execution_count": 6,
   "id": "2f57f2f7-261a-49d0-b460-5ceeeeda188b",
   "metadata": {},
   "outputs": [],
   "source": [
    "clinical[\"year\"] = clinical[\"EXAMDATE\"].str[:4]"
   ]
  },
  {
   "cell_type": "code",
   "execution_count": 7,
   "id": "a5a64014-959a-4b4a-aa2f-d3ea1b024f49",
   "metadata": {},
   "outputs": [],
   "source": [
    "clinical[\"Subject\"] = clinical[\"SUBJID\"].str.replace(\"ADNI_\", \"\").str.replace(\"s\", \"S\")"
   ]
  },
  {
   "cell_type": "code",
   "execution_count": 8,
   "id": "08f35069-5ed3-45c3-856a-e74a1630807c",
   "metadata": {},
   "outputs": [],
   "source": [
    "c = comb.merge(clinical, on = [\"RID\", \"PHASE\"])"
   ]
  },
  {
   "cell_type": "code",
   "execution_count": 9,
   "id": "a79d5bf8-1c86-4da2-a348-4e2c40199f5b",
   "metadata": {},
   "outputs": [],
   "source": [
    "c = c.drop(\"Subject\", axis =1)"
   ]
  },
  {
   "cell_type": "code",
   "execution_count": null,
   "id": "f700599f-3a5a-4fb0-b804-7cb1f0803121",
   "metadata": {},
   "outputs": [],
   "source": [
    "c = c.rename(columns = {\"PTID\":\"Subject\"}).rename(columns = {\"PHC_Diagnosis\":\"DX\"})"
   ]
  },
  {
   "cell_type": "code",
   "execution_count": 14,
   "id": "8843c4a2-b07b-4f55-80f2-d5b2b105f29c",
   "metadata": {},
   "outputs": [
    {
     "data": {
      "text/plain": [
       "Index(['RID', 'PTID_x', 'PHASE', 'PTID_y', 'SUBJID', 'VISCODE', 'VISCODE2',\n",
       "       'EXAMDATE', 'PHC_Visit', 'PHC_Age_Cognition', 'DX', 'PHC_Sex',\n",
       "       'PHC_Race', 'PHC_Ethnicity', 'PHC_Education', 'PHC_MEM', 'PHC_MEM_SE',\n",
       "       'PHC_MEM_PreciseFilter', 'PHC_EXF', 'PHC_EXF_SE',\n",
       "       'PHC_EXF_PreciseFilter', 'PHC_LAN', 'PHC_LAN_SE',\n",
       "       'PHC_LAN_PreciseFilter', 'PHC_VSP', 'PHC_VSP_SE',\n",
       "       'PHC_VSP_PreciseFilter', 'update_stamp', 'year'],\n",
       "      dtype='object')"
      ]
     },
     "execution_count": 14,
     "metadata": {},
     "output_type": "execute_result"
    }
   ],
   "source": [
    "c[\"DX\"] = c[\"DX\"] -1\n",
    "c.columns"
   ]
  },
  {
   "cell_type": "code",
   "execution_count": null,
   "id": "614d4927-e2ae-4385-9ef6-1e4dbb09de2a",
   "metadata": {},
   "outputs": [],
   "source": [
    "img[\"year\"] = img[\"Acq Date\"].str[5:].str.replace(\"/\", \"\")"
   ]
  },
  {
   "cell_type": "code",
   "execution_count": null,
   "id": "de9e6f5f-b1dc-4518-9607-83297bcea7d6",
   "metadata": {},
   "outputs": [],
   "source": [
    "img = img.replace([\"CN\", \"MCI\", \"AD\"], [ 0, 1, 2])"
   ]
  },
  {
   "cell_type": "code",
   "execution_count": 24,
   "id": "af4f8c6f-078f-403f-9d0b-42bd1a3ab4e4",
   "metadata": {},
   "outputs": [],
   "source": [
    "new[0] = new[0].astype(int) -1"
   ]
  },
  {
   "cell_type": "code",
   "execution_count": 25,
   "id": "b2754cac-d38e-4fb9-a4b6-0bc9e9e192b2",
   "metadata": {},
   "outputs": [],
   "source": [
    "new = new.rename(columns = {\"index\":\"Subject\", 0:\"GroupN\"})"
   ]
  },
  {
   "cell_type": "code",
   "execution_count": 26,
   "id": "46a3733a-dc9f-4720-b2bf-9bf7ff16b1ef",
   "metadata": {},
   "outputs": [
    {
     "data": {
      "text/plain": [
       "Index(['Subject', 'GroupN'], dtype='object')"
      ]
     },
     "execution_count": 26,
     "metadata": {},
     "output_type": "execute_result"
    }
   ],
   "source": [
    "# m = new.merge(c, on = \"Subject\", how = \"outer\").merge(img, on = \"Subject\", how = \"outer\")\n",
    "m = new\n",
    "new.columns"
   ]
  },
  {
   "cell_type": "code",
   "execution_count": null,
   "id": "3ca3eb93-d144-4df3-af48-7c8dc8341d19",
   "metadata": {},
   "outputs": [],
   "source": [
    "m[[\"GroupN\", \"DX\", \"Group\"]]"
   ]
  },
  {
   "cell_type": "code",
   "execution_count": null,
   "id": "fb89d6f4-968c-4c3a-89a5-b2d94d71bc08",
   "metadata": {},
   "outputs": [],
   "source": [
    "m = m[[\"Subject\", \"GroupN\", \"Group\", \"DX\", \"Phase\"]].drop_duplicates()"
   ]
  },
  {
   "cell_type": "code",
   "execution_count": null,
   "id": "104fa42b-2599-4b7e-81e1-ec0a0ec1ef71",
   "metadata": {},
   "outputs": [],
   "source": [
    "m = m.dropna(subset = [\"GroupN\", \"Group\", \"DX\"], how=\"all\").drop_duplicates()\n",
    "m"
   ]
  },
  {
   "cell_type": "code",
   "execution_count": null,
   "id": "e1048f8c-3daf-48bf-939d-f25117afc729",
   "metadata": {},
   "outputs": [],
   "source": [
    "m.loc[m[\"DX\"].isna() & m[\"Group\"].isna(), \"Group\"] = m.loc[m[\"DX\"].isna() & m[\"Group\"].isna(), \"GroupN\"]\n",
    "m.loc[m[\"DX\"].isna() & m[\"Group\"].isna(), \"DX\"] = m.loc[m[\"DX\"].isna() & m[\"Group\"].isna(), \"GroupN\"]"
   ]
  },
  {
   "cell_type": "code",
   "execution_count": null,
   "id": "77ed996f-f006-4815-a9ca-c886a110548a",
   "metadata": {},
   "outputs": [],
   "source": [
    "m1 = m[m[\"GroupN\"] == m[\"Group\"]]\n",
    "m3 = m[m[\"GroupN\"] == m[\"DX\"]]\n",
    "m4 = m[m[\"Group\"] == m[\"DX\"]]\n",
    "m2 = m1[m1[\"Group\"] == m1[\"DX\"]]"
   ]
  },
  {
   "cell_type": "code",
   "execution_count": null,
   "id": "baf23308-67b6-43fa-ace9-9637ee8364ab",
   "metadata": {},
   "outputs": [],
   "source": [
    "m1 = m1[[\"Subject\", \"GroupN\", \"Group\", \"DX\", \"Phase\"]]\n",
    "m1"
   ]
  },
  {
   "cell_type": "code",
   "execution_count": null,
   "id": "88ba7e0c-ee41-4595-8a0f-3848d9fbeba7",
   "metadata": {},
   "outputs": [],
   "source": [
    "m1.loc[m1[\"DX\"].isna(), \"DX\"] = m1.loc[m1[\"DX\"].isna(), \"Group\"]"
   ]
  },
  {
   "cell_type": "code",
   "execution_count": null,
   "id": "82d8c823-35f5-41b9-b439-c0b5e13370c4",
   "metadata": {},
   "outputs": [],
   "source": [
    "m3 = m3[[\"Subject\", \"GroupN\", \"Group\", \"DX\", \"Phase\"]]\n",
    "m3"
   ]
  },
  {
   "cell_type": "code",
   "execution_count": null,
   "id": "7aabb579-0fc5-41ad-9cd4-ce820715977f",
   "metadata": {},
   "outputs": [],
   "source": [
    "m3.loc[m3[\"Group\"].isna(), \"Group\"] = m3.loc[m3[\"Group\"].isna(), \"GroupN\"]"
   ]
  },
  {
   "cell_type": "code",
   "execution_count": null,
   "id": "cc88ae06-9ead-4fc9-b23b-456d8e9e87bd",
   "metadata": {},
   "outputs": [],
   "source": [
    "m4 = m4[[\"Subject\", \"GroupN\", \"Group\", \"DX\", \"Phase\"]]\n",
    "m4"
   ]
  },
  {
   "cell_type": "code",
   "execution_count": null,
   "id": "ea3b75a3-e786-4d7f-be84-f12fc58dcd05",
   "metadata": {},
   "outputs": [],
   "source": [
    "m4[m4[\"GroupN\"] != m4[\"DX\"]]"
   ]
  },
  {
   "cell_type": "code",
   "execution_count": null,
   "id": "149e3dc5-aced-4e41-8cd0-54f1f1e25561",
   "metadata": {},
   "outputs": [],
   "source": [
    "m2[[\"Subject\", \"GroupN\", \"Group\", \"DX\", \"Phase\"]]"
   ]
  },
  {
   "cell_type": "code",
   "execution_count": null,
   "id": "c638c649-969b-416a-b2e4-ef7f31b67063",
   "metadata": {},
   "outputs": [],
   "source": [
    "m5 = pd.concat([m1,m3,m4])\n",
    "i = m5[m5[\"Group\"] == m5[\"GroupN\"]]\n",
    "i = i[i[\"Group\"] == i[\"DX\"]]"
   ]
  },
  {
   "cell_type": "code",
   "execution_count": null,
   "id": "341ade32-d572-4550-92c2-4e9edd8d5704",
   "metadata": {},
   "outputs": [],
   "source": [
    "i = i.drop_duplicates()"
   ]
  },
  {
   "cell_type": "code",
   "execution_count": null,
   "id": "8c7a1cf8",
   "metadata": {},
   "outputs": [],
   "source": [
    "##### 여기까지 무시 #####"
   ]
  },
  {
   "cell_type": "code",
   "execution_count": null,
   "id": "446fe208",
   "metadata": {},
   "outputs": [],
   "source": [
    "##### 아래 diagnosis.csv를 만드는 과정은 구현하지 않았으나 모델 구현 부분에서도 사용되지 않는 것으로 확인 #####"
   ]
  },
  {
   "cell_type": "code",
   "execution_count": null,
   "id": "324bd3df-f316-4033-8727-0c64b49b0c58",
   "metadata": {},
   "outputs": [],
   "source": [
    "m.update(m5[~m5.index.duplicated(keep='first')])"
   ]
  },
  {
   "cell_type": "code",
   "execution_count": null,
   "id": "47ac4c83-59df-48da-89bd-c43ad5790b7e",
   "metadata": {},
   "outputs": [],
   "source": [
    "indexes = m.index"
   ]
  },
  {
   "cell_type": "code",
   "execution_count": null,
   "id": "921ae1b1-5b87-4120-ba61-72d44ca8e746",
   "metadata": {},
   "outputs": [],
   "source": [
    "#if none of the three diagnosis agree, then we set the value to -1\n",
    "m[\"GROUP\"] = -1"
   ]
  },
  {
   "cell_type": "code",
   "execution_count": null,
   "id": "56a53f45-886f-44a0-b352-31586f7de512",
   "metadata": {
    "tags": []
   },
   "outputs": [],
   "source": [
    "for i in indexes:\n",
    "    row = m.loc[i]\n",
    "    if (row[\"GroupN\"] == row[\"Group\"]):\n",
    "        val = row[\"GroupN\"]\n",
    "        \n",
    "        m.loc[i, \"GROUP\"] = val\n",
    "    elif (row[\"GroupN\"] == row[\"DX\"]):\n",
    "        val = row[\"GroupN\"]\n",
    "        m.loc[i, \"GROUP\"] = val\n",
    "        \n",
    "    elif (row[\"Group\"] == row[\"DX\"]):\n",
    "        val = row[\"Group\"]\n",
    "        m.loc[i, \"GROUP\"] = val\n",
    "        "
   ]
  },
  {
   "cell_type": "code",
   "execution_count": null,
   "id": "bbb55e5d-5d81-4b28-a5c7-b57a8c895eed",
   "metadata": {},
   "outputs": [],
   "source": [
    "m5 = m5[~m5.index.duplicated(keep='first')]\n",
    "m5"
   ]
  },
  {
   "cell_type": "code",
   "execution_count": null,
   "id": "3686a6e9-2ed0-410b-be9d-ac24a3ca230f",
   "metadata": {},
   "outputs": [],
   "source": [
    "m[m[\"GROUP\"] != -1]"
   ]
  },
  {
   "cell_type": "code",
   "execution_count": null,
   "id": "553d0140-5c90-4210-8b74-c922f96ebf35",
   "metadata": {},
   "outputs": [],
   "source": [
    "m[[\"Subject\", \"GroupN\", \"Group\", \"DX\", \"GROUP\", \"Phase\"]].to_csv(\"diagnosis_full.csv\")"
   ]
  }
 ],
 "metadata": {
  "kernelspec": {
   "display_name": "env37 (3.7.4)",
   "language": "python",
   "name": "python3"
  },
  "language_info": {
   "codemirror_mode": {
    "name": "ipython",
    "version": 3
   },
   "file_extension": ".py",
   "mimetype": "text/x-python",
   "name": "python",
   "nbconvert_exporter": "python",
   "pygments_lexer": "ipython3",
   "version": "3.7.4"
  }
 },
 "nbformat": 4,
 "nbformat_minor": 5
}
