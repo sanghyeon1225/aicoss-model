{
 "cells": [
  {
   "cell_type": "code",
   "execution_count": 1,
   "id": "6cfd763c",
   "metadata": {},
   "outputs": [],
   "source": [
    "import pandas as pd\n",
    "import numpy as np\n",
    "from sklearn.model_selection import train_test_split\n",
    "from sklearn.preprocessing import MinMaxScaler\n",
    "from keras.models import Sequential\n",
    "from keras.layers import Dense,Dropout,MaxPooling1D, Flatten,BatchNormalization, GaussianNoise,Conv1D\n",
    "import matplotlib.pyplot as plt\n",
    "from tensorflow.keras.optimizers import Adam\n",
    "from tensorflow.keras.utils import to_categorical\n",
    "from sklearn.utils import compute_class_weight\n",
    "from tensorflow.keras import initializers\n",
    "from tensorflow.keras import regularizers\n",
    "from tensorflow.keras.models import Sequential, save_model, load_model"
   ]
  },
  {
   "cell_type": "code",
   "execution_count": null,
   "id": "b986eca4",
   "metadata": {},
   "outputs": [],
   "source": [
    "##### 데이터 병합 과정 #####"
   ]
  },
  {
   "cell_type": "code",
   "execution_count": 85,
   "id": "4b2bf397-16cf-4283-8235-13e6301bf49b",
   "metadata": {},
   "outputs": [],
   "source": [
    "#this was created in general/diagnosis_making notebook\n",
    "diag = pd.read_csv(\"D:/Desktop/aicoss-model/preprocessed/ground_truth.csv\").drop(\"Unnamed: 0\", axis=1)"
   ]
  },
  {
   "cell_type": "markdown",
   "id": "1b4facbe-e460-4b9e-8295-0b159f336a89",
   "metadata": {},
   "source": [
    "Below we are combining several clinical datasets."
   ]
  },
  {
   "cell_type": "code",
   "execution_count": 86,
   "id": "fa4b7bb4-4f1c-4dfe-94f6-bff26f6e155c",
   "metadata": {},
   "outputs": [
    {
     "data": {
      "text/plain": [
       "Index(['Phase', 'PTID', 'RID', 'VISCODE', 'VISCODE2', 'VISDATE', 'PTSOURCE',\n",
       "       'PTGENDER', 'PTDOB', 'PTDOBYY', 'PTHAND', 'PTMARRY', 'PTEDUCAT',\n",
       "       'PTWORKHS', 'PTWORK', 'PTNOTRT', 'PTRTYR', 'PTHOME', 'PTTLANG',\n",
       "       'PTPLANG', 'PTADBEG', 'PTCOGBEG', 'PTADDX', 'PTETHCAT', 'PTRACCAT',\n",
       "       'PTIDENT', 'PTORIENT', 'PTORIENTOT', 'PTENGSPK', 'PTNLANG',\n",
       "       'PTENGSPKAGE', 'PTCLANG', 'PTLANGSP', 'PTLANGWR', 'PTSPTIM',\n",
       "       'PTSPOTTIM', 'PTLANGPR1', 'PTLANGSP1', 'PTLANGRD1', 'PTLANGWR1',\n",
       "       'PTLANGUN1', 'PTLANGPR2', 'PTLANGSP2', 'PTLANGRD2', 'PTLANGWR2',\n",
       "       'PTLANGUN2', 'PTLANGPR3', 'PTLANGSP3', 'PTLANGRD3', 'PTLANGWR3',\n",
       "       'PTLANGUN3', 'PTLANGPR4', 'PTLANGSP4', 'PTLANGRD4', 'PTLANGWR4',\n",
       "       'PTLANGUN4', 'PTLANGPR5', 'PTLANGSP5', 'PTLANGRD5', 'PTLANGWR5',\n",
       "       'PTLANGUN5', 'PTLANGPR6', 'PTLANGSP6', 'PTLANGRD6', 'PTLANGWR6',\n",
       "       'PTLANGUN6', 'PTLANGTTL', 'PTETHCATH', 'PTASIAN', 'PTOPI', 'PTBORN',\n",
       "       'PTBIRPL', 'PTIMMAGE', 'PTIMMWHY', 'PTBIRPR', 'PTBIRGR', 'ID', 'SITEID',\n",
       "       'USERDATE', 'USERDATE2', 'DD_CRF_VERSION_LABEL', 'LANGUAGE_CODE',\n",
       "       'HAS_QC_ERROR', 'update_stamp'],\n",
       "      dtype='object')"
      ]
     },
     "execution_count": 86,
     "metadata": {},
     "output_type": "execute_result"
    }
   ],
   "source": [
    "# PTDEMOG 파일 읽기\n",
    "demo = pd.read_csv(\"D:/Desktop/aicoss-model/PTDEMOG.csv\").rename(columns = {\"PHASE\":\"Phase\"})\n",
    "demo.columns"
   ]
  },
  {
   "cell_type": "code",
   "execution_count": 87,
   "id": "84188e78-fcfd-4bb2-ae93-8cba7dc6adea",
   "metadata": {},
   "outputs": [],
   "source": [
    "# NEUROEXM 파일 읽기\n",
    "neuro = pd.read_csv(\"D:/Desktop/aicoss-model/NEUROEXM.csv\").rename(columns = {\"PHASE\":\"Phase\"})"
   ]
  },
  {
   "cell_type": "code",
   "execution_count": 5,
   "id": "dfe73dfa-d1c9-4a58-b644-d61cb74783d6",
   "metadata": {},
   "outputs": [
    {
     "data": {
      "text/plain": [
       "Index(['Phase', 'PTID', 'RID', 'VISCODE', 'VISCODE2', 'VISDATE', 'NXVISUAL',\n",
       "       'NXAUDITO', 'NXTREMOR', 'NXCONSCI', 'NXNERVE', 'NXMOTOR', 'NXFINGER',\n",
       "       'NXHEEL', 'NXSENSOR', 'NXTENDON', 'NXPLANTA', 'NXGAIT', 'NXOTHER',\n",
       "       'NXABNORM', 'ID', 'SITEID', 'USERDATE', 'USERDATE2',\n",
       "       'DD_CRF_VERSION_LABEL', 'LANGUAGE_CODE', 'HAS_QC_ERROR',\n",
       "       'update_stamp'],\n",
       "      dtype='object')"
      ]
     },
     "execution_count": 5,
     "metadata": {},
     "output_type": "execute_result"
    }
   ],
   "source": [
    "neuro.columns"
   ]
  },
  {
   "cell_type": "code",
   "execution_count": 88,
   "id": "e09e4f90-4b71-4eac-b523-e01a4d18d71c",
   "metadata": {},
   "outputs": [],
   "source": [
    "# ADSP_PHC_COGN 파일 읽기\n",
    "clinical = pd.read_csv(\"D:/Desktop/aicoss-model/ADSP_PHC_COGN.csv\").rename(columns = {\"PHASE\":\"Phase\"})"
   ]
  },
  {
   "cell_type": "code",
   "execution_count": 89,
   "id": "b190241b",
   "metadata": {},
   "outputs": [
    {
     "data": {
      "text/plain": [
       "Index(['RID', 'PTID', 'SUBJID', 'Phase', 'VISCODE', 'VISCODE2', 'EXAMDATE',\n",
       "       'PHC_Visit', 'PHC_Age_Cognition', 'PHC_Diagnosis', 'PHC_Sex',\n",
       "       'PHC_Race', 'PHC_Ethnicity', 'PHC_Education', 'PHC_MEM', 'PHC_MEM_SE',\n",
       "       'PHC_MEM_PreciseFilter', 'PHC_EXF', 'PHC_EXF_SE',\n",
       "       'PHC_EXF_PreciseFilter', 'PHC_LAN', 'PHC_LAN_SE',\n",
       "       'PHC_LAN_PreciseFilter', 'PHC_VSP', 'PHC_VSP_SE',\n",
       "       'PHC_VSP_PreciseFilter', 'update_stamp'],\n",
       "      dtype='object')"
      ]
     },
     "metadata": {},
     "output_type": "display_data"
    }
   ],
   "source": [
    "with pd.option_context('display.max_seq_items', None,\n",
    "                       'display.max_rows', None,\n",
    "                       'display.max_columns', None,\n",
    "                       'display.width', None):\n",
    "    display(clinical.columns)"
   ]
  },
  {
   "cell_type": "code",
   "execution_count": 90,
   "id": "8174678d-bb3a-4257-a65c-9b5b7c329ddd",
   "metadata": {},
   "outputs": [
    {
     "data": {
      "text/plain": [
       "052_S_1352    6\n",
       "007_S_2394    6\n",
       "127_S_1427    6\n",
       "067_S_2304    6\n",
       "068_S_2187    5\n",
       "             ..\n",
       "072_S_4465    1\n",
       "011_S_4519    1\n",
       "116_S_4013    1\n",
       "094_S_4486    1\n",
       "035_S_4786    1\n",
       "Name: Subject, Length: 1138, dtype: int64"
      ]
     },
     "execution_count": 90,
     "metadata": {},
     "output_type": "execute_result"
    }
   ],
   "source": [
    "diag[\"Subject\"].value_counts()"
   ]
  },
  {
   "cell_type": "code",
   "execution_count": 91,
   "id": "dc0bfc71-fc78-4de4-b8ea-dcc6cc684cb6",
   "metadata": {},
   "outputs": [
    {
     "data": {
      "text/html": [
       "<div>\n",
       "<style scoped>\n",
       "    .dataframe tbody tr th:only-of-type {\n",
       "        vertical-align: middle;\n",
       "    }\n",
       "\n",
       "    .dataframe tbody tr th {\n",
       "        vertical-align: top;\n",
       "    }\n",
       "\n",
       "    .dataframe thead th {\n",
       "        text-align: right;\n",
       "    }\n",
       "</style>\n",
       "<table border=\"1\" class=\"dataframe\">\n",
       "  <thead>\n",
       "    <tr style=\"text-align: right;\">\n",
       "      <th></th>\n",
       "      <th>RID</th>\n",
       "      <th>PTID</th>\n",
       "      <th>Phase</th>\n",
       "    </tr>\n",
       "  </thead>\n",
       "  <tbody>\n",
       "    <tr>\n",
       "      <th>0</th>\n",
       "      <td>1247</td>\n",
       "      <td>023_S_1247</td>\n",
       "      <td>ADNI1</td>\n",
       "    </tr>\n",
       "    <tr>\n",
       "      <th>1</th>\n",
       "      <td>1245</td>\n",
       "      <td>141_S_1245</td>\n",
       "      <td>ADNI1</td>\n",
       "    </tr>\n",
       "    <tr>\n",
       "      <th>2</th>\n",
       "      <td>1289</td>\n",
       "      <td>023_S_1289</td>\n",
       "      <td>ADNI1</td>\n",
       "    </tr>\n",
       "    <tr>\n",
       "      <th>3</th>\n",
       "      <td>1242</td>\n",
       "      <td>128_S_1242</td>\n",
       "      <td>ADNI1</td>\n",
       "    </tr>\n",
       "    <tr>\n",
       "      <th>4</th>\n",
       "      <td>1249</td>\n",
       "      <td>116_S_1249</td>\n",
       "      <td>ADNI1</td>\n",
       "    </tr>\n",
       "    <tr>\n",
       "      <th>...</th>\n",
       "      <td>...</td>\n",
       "      <td>...</td>\n",
       "      <td>...</td>\n",
       "    </tr>\n",
       "    <tr>\n",
       "      <th>6114</th>\n",
       "      <td>2123</td>\n",
       "      <td>128_S_2123</td>\n",
       "      <td>ADNI4</td>\n",
       "    </tr>\n",
       "    <tr>\n",
       "      <th>6115</th>\n",
       "      <td>4598</td>\n",
       "      <td>135_S_4598</td>\n",
       "      <td>ADNI4</td>\n",
       "    </tr>\n",
       "    <tr>\n",
       "      <th>6116</th>\n",
       "      <td>4381</td>\n",
       "      <td>037_S_4381</td>\n",
       "      <td>ADNI4</td>\n",
       "    </tr>\n",
       "    <tr>\n",
       "      <th>6117</th>\n",
       "      <td>4212</td>\n",
       "      <td>067_S_4212</td>\n",
       "      <td>ADNI4</td>\n",
       "    </tr>\n",
       "    <tr>\n",
       "      <th>6118</th>\n",
       "      <td>4944</td>\n",
       "      <td>052_S_4944</td>\n",
       "      <td>ADNI4</td>\n",
       "    </tr>\n",
       "  </tbody>\n",
       "</table>\n",
       "<p>6119 rows × 3 columns</p>\n",
       "</div>"
      ],
      "text/plain": [
       "       RID        PTID  Phase\n",
       "0     1247  023_S_1247  ADNI1\n",
       "1     1245  141_S_1245  ADNI1\n",
       "2     1289  023_S_1289  ADNI1\n",
       "3     1242  128_S_1242  ADNI1\n",
       "4     1249  116_S_1249  ADNI1\n",
       "...    ...         ...    ...\n",
       "6114  2123  128_S_2123  ADNI4\n",
       "6115  4598  135_S_4598  ADNI4\n",
       "6116  4381  037_S_4381  ADNI4\n",
       "6117  4212  067_S_4212  ADNI4\n",
       "6118  4944  052_S_4944  ADNI4\n",
       "\n",
       "[6119 rows x 3 columns]"
      ]
     },
     "execution_count": 91,
     "metadata": {},
     "output_type": "execute_result"
    }
   ],
   "source": [
    "# DXSUM 파일 읽기\n",
    "comb = pd.read_csv(\"D:/Desktop/aicoss-model/DXSUM.csv\")[[\"RID\", \"PTID\", \"PHASE\"]].rename(columns = {\"PHASE\":\"Phase\"})\n",
    "comb"
   ]
  },
  {
   "cell_type": "code",
   "execution_count": 92,
   "id": "c9606fab-0929-453f-9f5f-cbe935eba8d3",
   "metadata": {},
   "outputs": [
    {
     "name": "stderr",
     "output_type": "stream",
     "text": [
      "d:\\Desktop\\aicoss-model\\env37\\lib\\site-packages\\pandas\\core\\frame.py:9204: FutureWarning: Passing 'suffixes' which cause duplicate columns {'PTID_x'} in the result is deprecated and will raise a MergeError in a future version.\n",
      "  validate=validate,\n"
     ]
    }
   ],
   "source": [
    "# PTDEMOG, NEUROEXM, ADSP_PHC_COGN 데이터 병합\n",
    "m = comb.merge(demo, on = [\"RID\", \"Phase\"]).merge(neuro,on = [\"RID\", \"Phase\"]).merge(clinical,on = [\"RID\", \"Phase\"]).drop_duplicates()"
   ]
  },
  {
   "cell_type": "code",
   "execution_count": 93,
   "id": "7f05c137",
   "metadata": {},
   "outputs": [
    {
     "data": {
      "text/plain": [
       "Index(['RID', 'PTID_x', 'Phase', 'PTID_y', 'VISCODE_x', 'VISCODE2_x',\n",
       "       'VISDATE_x', 'PTSOURCE', 'PTGENDER', 'PTDOB', 'PTDOBYY', 'PTHAND',\n",
       "       'PTMARRY', 'PTEDUCAT', 'PTWORKHS', 'PTWORK', 'PTNOTRT', 'PTRTYR',\n",
       "       'PTHOME', 'PTTLANG', 'PTPLANG', 'PTADBEG', 'PTCOGBEG', 'PTADDX',\n",
       "       'PTETHCAT', 'PTRACCAT', 'PTIDENT', 'PTORIENT', 'PTORIENTOT', 'PTENGSPK',\n",
       "       'PTNLANG', 'PTENGSPKAGE', 'PTCLANG', 'PTLANGSP', 'PTLANGWR', 'PTSPTIM',\n",
       "       'PTSPOTTIM', 'PTLANGPR1', 'PTLANGSP1', 'PTLANGRD1', 'PTLANGWR1',\n",
       "       'PTLANGUN1', 'PTLANGPR2', 'PTLANGSP2', 'PTLANGRD2', 'PTLANGWR2',\n",
       "       'PTLANGUN2', 'PTLANGPR3', 'PTLANGSP3', 'PTLANGRD3', 'PTLANGWR3',\n",
       "       'PTLANGUN3', 'PTLANGPR4', 'PTLANGSP4', 'PTLANGRD4', 'PTLANGWR4',\n",
       "       'PTLANGUN4', 'PTLANGPR5', 'PTLANGSP5', 'PTLANGRD5', 'PTLANGWR5',\n",
       "       'PTLANGUN5', 'PTLANGPR6', 'PTLANGSP6', 'PTLANGRD6', 'PTLANGWR6',\n",
       "       'PTLANGUN6', 'PTLANGTTL', 'PTETHCATH', 'PTASIAN', 'PTOPI', 'PTBORN',\n",
       "       'PTBIRPL', 'PTIMMAGE', 'PTIMMWHY', 'PTBIRPR', 'PTBIRGR', 'ID_x',\n",
       "       'SITEID_x', 'USERDATE_x', 'USERDATE2_x', 'DD_CRF_VERSION_LABEL_x',\n",
       "       'LANGUAGE_CODE_x', 'HAS_QC_ERROR_x', 'update_stamp_x', 'PTID_x',\n",
       "       'VISCODE_y', 'VISCODE2_y', 'VISDATE_y', 'NXVISUAL', 'NXAUDITO',\n",
       "       'NXTREMOR', 'NXCONSCI', 'NXNERVE', 'NXMOTOR', 'NXFINGER', 'NXHEEL',\n",
       "       'NXSENSOR', 'NXTENDON', 'NXPLANTA', 'NXGAIT', 'NXOTHER', 'NXABNORM',\n",
       "       'ID_y', 'SITEID_y', 'USERDATE_y', 'USERDATE2_y',\n",
       "       'DD_CRF_VERSION_LABEL_y', 'LANGUAGE_CODE_y', 'HAS_QC_ERROR_y',\n",
       "       'update_stamp_y', 'PTID_y', 'SUBJID', 'VISCODE', 'VISCODE2', 'EXAMDATE',\n",
       "       'PHC_Visit', 'PHC_Age_Cognition', 'PHC_Diagnosis', 'PHC_Sex',\n",
       "       'PHC_Race', 'PHC_Ethnicity', 'PHC_Education', 'PHC_MEM', 'PHC_MEM_SE',\n",
       "       'PHC_MEM_PreciseFilter', 'PHC_EXF', 'PHC_EXF_SE',\n",
       "       'PHC_EXF_PreciseFilter', 'PHC_LAN', 'PHC_LAN_SE',\n",
       "       'PHC_LAN_PreciseFilter', 'PHC_VSP', 'PHC_VSP_SE',\n",
       "       'PHC_VSP_PreciseFilter', 'update_stamp'],\n",
       "      dtype='object')"
      ]
     },
     "metadata": {},
     "output_type": "display_data"
    },
    {
     "name": "stdout",
     "output_type": "stream",
     "text": [
      "(4045, 136)\n"
     ]
    }
   ],
   "source": [
    "with pd.option_context('display.max_seq_items', None,\n",
    "                       'display.max_rows', None,\n",
    "                       'display.max_columns', None,\n",
    "                       'display.width', None):\n",
    "    display(m.columns)\n",
    "    print(m.shape)"
   ]
  },
  {
   "cell_type": "code",
   "execution_count": 94,
   "id": "237ecaa4-718c-499f-9083-57ed9a7ae1d9",
   "metadata": {},
   "outputs": [],
   "source": [
    "# merge 작업 후 중복되는 열 제거\n",
    "m.columns = [c[:-2] if str(c).endswith(('_x','_y')) else c for c in m.columns]\n",
    "\n",
    "m = m.loc[:,~m.columns.duplicated()]"
   ]
  },
  {
   "cell_type": "code",
   "execution_count": 95,
   "id": "814670f5",
   "metadata": {},
   "outputs": [
    {
     "data": {
      "text/plain": [
       "Index(['RID', 'PTID', 'Phase', 'VISCODE', 'VISCODE2', 'VISDATE', 'PTSOURCE',\n",
       "       'PTGENDER', 'PTDOB', 'PTDOBYY', 'PTHAND', 'PTMARRY', 'PTEDUCAT',\n",
       "       'PTWORKHS', 'PTWORK', 'PTNOTRT', 'PTRTYR', 'PTHOME', 'PTTLANG',\n",
       "       'PTPLANG', 'PTADBEG', 'PTCOGBEG', 'PTADDX', 'PTETHCAT', 'PTRACCAT',\n",
       "       'PTIDENT', 'PTORIENT', 'PTORIENTOT', 'PTENGSPK', 'PTNLANG',\n",
       "       'PTENGSPKAGE', 'PTCLANG', 'PTLANGSP', 'PTLANGWR', 'PTSPTIM',\n",
       "       'PTSPOTTIM', 'PTLANGPR1', 'PTLANGSP1', 'PTLANGRD1', 'PTLANGWR1',\n",
       "       'PTLANGUN1', 'PTLANGPR2', 'PTLANGSP2', 'PTLANGRD2', 'PTLANGWR2',\n",
       "       'PTLANGUN2', 'PTLANGPR3', 'PTLANGSP3', 'PTLANGRD3', 'PTLANGWR3',\n",
       "       'PTLANGUN3', 'PTLANGPR4', 'PTLANGSP4', 'PTLANGRD4', 'PTLANGWR4',\n",
       "       'PTLANGUN4', 'PTLANGPR5', 'PTLANGSP5', 'PTLANGRD5', 'PTLANGWR5',\n",
       "       'PTLANGUN5', 'PTLANGPR6', 'PTLANGSP6', 'PTLANGRD6', 'PTLANGWR6',\n",
       "       'PTLANGUN6', 'PTLANGTTL', 'PTETHCATH', 'PTASIAN', 'PTOPI', 'PTBORN',\n",
       "       'PTBIRPL', 'PTIMMAGE', 'PTIMMWHY', 'PTBIRPR', 'PTBIRGR', 'ID', 'SITEID',\n",
       "       'USERDATE', 'USERDATE2', 'DD_CRF_VERSION_LABEL', 'LANGUAGE_CODE',\n",
       "       'HAS_QC_ERROR', 'update_stamp', 'NXVISUAL', 'NXAUDITO', 'NXTREMOR',\n",
       "       'NXCONSCI', 'NXNERVE', 'NXMOTOR', 'NXFINGER', 'NXHEEL', 'NXSENSOR',\n",
       "       'NXTENDON', 'NXPLANTA', 'NXGAIT', 'NXOTHER', 'NXABNORM', 'SUBJID',\n",
       "       'EXAMDATE', 'PHC_Visit', 'PHC_Age_Cognition', 'PHC_Diagnosis',\n",
       "       'PHC_Sex', 'PHC_Race', 'PHC_Ethnicity', 'PHC_Education', 'PHC_MEM',\n",
       "       'PHC_MEM_SE', 'PHC_MEM_PreciseFilter', 'PHC_EXF', 'PHC_EXF_SE',\n",
       "       'PHC_EXF_PreciseFilter', 'PHC_LAN', 'PHC_LAN_SE',\n",
       "       'PHC_LAN_PreciseFilter', 'PHC_VSP', 'PHC_VSP_SE',\n",
       "       'PHC_VSP_PreciseFilter'],\n",
       "      dtype='object')"
      ]
     },
     "metadata": {},
     "output_type": "display_data"
    },
    {
     "name": "stdout",
     "output_type": "stream",
     "text": [
      "(4045, 119)\n"
     ]
    }
   ],
   "source": [
    "with pd.option_context('display.max_seq_items', None,\n",
    "                       'display.max_rows', None,\n",
    "                       'display.max_columns', None,\n",
    "                       'display.width', None):\n",
    "    display(m.columns)\n",
    "    print(m.shape)"
   ]
  },
  {
   "cell_type": "code",
   "execution_count": 96,
   "id": "9466e8ce-532f-44e2-86fc-7483dc16f232",
   "metadata": {},
   "outputs": [],
   "source": [
    "diag = diag.rename(columns = {\"Subject\": \"PTID\"})"
   ]
  },
  {
   "cell_type": "code",
   "execution_count": 97,
   "id": "49db48f4",
   "metadata": {},
   "outputs": [
    {
     "name": "stdout",
     "output_type": "stream",
     "text": [
      "            PTID  Group  Phase\n",
      "0     023_S_1247    1.0  ADNI1\n",
      "1     141_S_1245    1.0  ADNI1\n",
      "2     023_S_1289    2.0  ADNI1\n",
      "3     128_S_1242    0.0  ADNI1\n",
      "4     116_S_1249    0.0  ADNI1\n",
      "...          ...    ...    ...\n",
      "1976  130_S_4294    2.0  ADNI4\n",
      "1977  114_S_2392    0.0  ADNI4\n",
      "1978  067_S_4782    2.0  ADNI4\n",
      "1979  037_S_4381    0.0  ADNI4\n",
      "1980  067_S_4212    0.0  ADNI4\n",
      "\n",
      "[1981 rows x 3 columns]\n"
     ]
    }
   ],
   "source": [
    "print(diag)"
   ]
  },
  {
   "cell_type": "code",
   "execution_count": 98,
   "id": "4e3e6ca5-56c5-4298-b36f-1edf0b09c9c1",
   "metadata": {},
   "outputs": [],
   "source": [
    "# ground_truth까지 병합 -> 진단명 라벨링\n",
    "m = m.merge(diag, on = [\"PTID\", \"Phase\"])"
   ]
  },
  {
   "cell_type": "code",
   "execution_count": 99,
   "id": "9ca5e7d1-f74b-49e4-ab98-66ac61788667",
   "metadata": {},
   "outputs": [
    {
     "data": {
      "text/plain": [
       "067_S_4767    36\n",
       "067_S_4072    28\n",
       "027_S_1387    26\n",
       "067_S_4054    24\n",
       "002_S_4262    21\n",
       "              ..\n",
       "020_S_4619     1\n",
       "016_S_4601     1\n",
       "128_S_4603     1\n",
       "136_S_4517     1\n",
       "035_S_4786     1\n",
       "Name: PTID, Length: 1129, dtype: int64"
      ]
     },
     "execution_count": 99,
     "metadata": {},
     "output_type": "execute_result"
    }
   ],
   "source": [
    "m[\"PTID\"].value_counts()"
   ]
  },
  {
   "cell_type": "code",
   "execution_count": 100,
   "id": "e6af2b67",
   "metadata": {},
   "outputs": [
    {
     "data": {
      "text/plain": [
       "Index(['RID', 'PTID', 'Phase', 'VISCODE', 'VISCODE2', 'VISDATE', 'PTSOURCE',\n",
       "       'PTGENDER', 'PTDOB', 'PTDOBYY', 'PTHAND', 'PTMARRY', 'PTEDUCAT',\n",
       "       'PTWORKHS', 'PTWORK', 'PTNOTRT', 'PTRTYR', 'PTHOME', 'PTTLANG',\n",
       "       'PTPLANG', 'PTADBEG', 'PTCOGBEG', 'PTADDX', 'PTETHCAT', 'PTRACCAT',\n",
       "       'PTIDENT', 'PTORIENT', 'PTORIENTOT', 'PTENGSPK', 'PTNLANG',\n",
       "       'PTENGSPKAGE', 'PTCLANG', 'PTLANGSP', 'PTLANGWR', 'PTSPTIM',\n",
       "       'PTSPOTTIM', 'PTLANGPR1', 'PTLANGSP1', 'PTLANGRD1', 'PTLANGWR1',\n",
       "       'PTLANGUN1', 'PTLANGPR2', 'PTLANGSP2', 'PTLANGRD2', 'PTLANGWR2',\n",
       "       'PTLANGUN2', 'PTLANGPR3', 'PTLANGSP3', 'PTLANGRD3', 'PTLANGWR3',\n",
       "       'PTLANGUN3', 'PTLANGPR4', 'PTLANGSP4', 'PTLANGRD4', 'PTLANGWR4',\n",
       "       'PTLANGUN4', 'PTLANGPR5', 'PTLANGSP5', 'PTLANGRD5', 'PTLANGWR5',\n",
       "       'PTLANGUN5', 'PTLANGPR6', 'PTLANGSP6', 'PTLANGRD6', 'PTLANGWR6',\n",
       "       'PTLANGUN6', 'PTLANGTTL', 'PTETHCATH', 'PTASIAN', 'PTOPI', 'PTBORN',\n",
       "       'PTBIRPL', 'PTIMMAGE', 'PTIMMWHY', 'PTBIRPR', 'PTBIRGR', 'ID', 'SITEID',\n",
       "       'USERDATE', 'USERDATE2', 'DD_CRF_VERSION_LABEL', 'LANGUAGE_CODE',\n",
       "       'HAS_QC_ERROR', 'update_stamp', 'NXVISUAL', 'NXAUDITO', 'NXTREMOR',\n",
       "       'NXCONSCI', 'NXNERVE', 'NXMOTOR', 'NXFINGER', 'NXHEEL', 'NXSENSOR',\n",
       "       'NXTENDON', 'NXPLANTA', 'NXGAIT', 'NXOTHER', 'NXABNORM', 'SUBJID',\n",
       "       'EXAMDATE', 'PHC_Visit', 'PHC_Age_Cognition', 'PHC_Diagnosis',\n",
       "       'PHC_Sex', 'PHC_Race', 'PHC_Ethnicity', 'PHC_Education', 'PHC_MEM',\n",
       "       'PHC_MEM_SE', 'PHC_MEM_PreciseFilter', 'PHC_EXF', 'PHC_EXF_SE',\n",
       "       'PHC_EXF_PreciseFilter', 'PHC_LAN', 'PHC_LAN_SE',\n",
       "       'PHC_LAN_PreciseFilter', 'PHC_VSP', 'PHC_VSP_SE',\n",
       "       'PHC_VSP_PreciseFilter', 'Group'],\n",
       "      dtype='object')"
      ]
     },
     "metadata": {},
     "output_type": "display_data"
    },
    {
     "name": "stdout",
     "output_type": "stream",
     "text": [
      "(5066, 120)\n"
     ]
    }
   ],
   "source": [
    "with pd.option_context('display.max_seq_items', None,\n",
    "                       'display.max_rows', None,\n",
    "                       'display.max_columns', None,\n",
    "                       'display.width', None):\n",
    "    display(m.columns)\n",
    "    print(m.shape)"
   ]
  },
  {
   "cell_type": "code",
   "execution_count": null,
   "id": "19f2775c",
   "metadata": {},
   "outputs": [],
   "source": [
    "##### 데이터 가공 #####"
   ]
  },
  {
   "cell_type": "code",
   "execution_count": 165,
   "id": "4ee16034-93c9-41bb-88a9-d810a938b227",
   "metadata": {},
   "outputs": [],
   "source": [
    "t = m"
   ]
  },
  {
   "cell_type": "code",
   "execution_count": null,
   "id": "34bfedf8-9f93-4d34-83b6-cdf48c517115",
   "metadata": {},
   "outputs": [],
   "source": [
    "# 데이터 병합용으로 사용했던 feature drop\n",
    "t.columns\n",
    "t = t.drop([\"ID\", \"SITEID\", \"USERDATE\", \"USERDATE2\", \"update_stamp\", \"PTSOURCE\", 'PHC_Diagnosis'], axis=1) \n",
    "# t = t.drop([\"VISCODE\", \"VISCODE2\"], axis=1)"
   ]
  },
  {
   "cell_type": "code",
   "execution_count": 167,
   "id": "eb94d03a-a0dc-4579-bddc-e7795e23b779",
   "metadata": {},
   "outputs": [
    {
     "data": {
      "text/plain": [
       "Index(['RID', 'PTID', 'Phase', 'VISCODE', 'VISCODE2', 'VISDATE', 'PTGENDER',\n",
       "       'PTDOB', 'PTDOBYY', 'PTHAND', 'PTMARRY', 'PTEDUCAT', 'PTWORKHS',\n",
       "       'PTWORK', 'PTNOTRT', 'PTRTYR', 'PTHOME', 'PTTLANG', 'PTPLANG',\n",
       "       'PTADBEG', 'PTCOGBEG', 'PTADDX', 'PTETHCAT', 'PTRACCAT', 'PTIDENT',\n",
       "       'PTORIENT', 'PTORIENTOT', 'PTENGSPK', 'PTNLANG', 'PTENGSPKAGE',\n",
       "       'PTCLANG', 'PTLANGSP', 'PTLANGWR', 'PTSPTIM', 'PTSPOTTIM', 'PTLANGPR1',\n",
       "       'PTLANGSP1', 'PTLANGRD1', 'PTLANGWR1', 'PTLANGUN1', 'PTLANGPR2',\n",
       "       'PTLANGSP2', 'PTLANGRD2', 'PTLANGWR2', 'PTLANGUN2', 'PTLANGPR3',\n",
       "       'PTLANGSP3', 'PTLANGRD3', 'PTLANGWR3', 'PTLANGUN3', 'PTLANGPR4',\n",
       "       'PTLANGSP4', 'PTLANGRD4', 'PTLANGWR4', 'PTLANGUN4', 'PTLANGPR5',\n",
       "       'PTLANGSP5', 'PTLANGRD5', 'PTLANGWR5', 'PTLANGUN5', 'PTLANGPR6',\n",
       "       'PTLANGSP6', 'PTLANGRD6', 'PTLANGWR6', 'PTLANGUN6', 'PTLANGTTL',\n",
       "       'PTETHCATH', 'PTASIAN', 'PTOPI', 'PTBORN', 'PTBIRPL', 'PTIMMAGE',\n",
       "       'PTIMMWHY', 'PTBIRPR', 'PTBIRGR', 'DD_CRF_VERSION_LABEL',\n",
       "       'LANGUAGE_CODE', 'HAS_QC_ERROR', 'NXVISUAL', 'NXAUDITO', 'NXTREMOR',\n",
       "       'NXCONSCI', 'NXNERVE', 'NXMOTOR', 'NXFINGER', 'NXHEEL', 'NXSENSOR',\n",
       "       'NXTENDON', 'NXPLANTA', 'NXGAIT', 'NXOTHER', 'NXABNORM', 'SUBJID',\n",
       "       'EXAMDATE', 'PHC_Visit', 'PHC_Age_Cognition', 'PHC_Sex', 'PHC_Race',\n",
       "       'PHC_Ethnicity', 'PHC_Education', 'PHC_MEM', 'PHC_MEM_SE',\n",
       "       'PHC_MEM_PreciseFilter', 'PHC_EXF', 'PHC_EXF_SE',\n",
       "       'PHC_EXF_PreciseFilter', 'PHC_LAN', 'PHC_LAN_SE',\n",
       "       'PHC_LAN_PreciseFilter', 'PHC_VSP', 'PHC_VSP_SE',\n",
       "       'PHC_VSP_PreciseFilter', 'Group'],\n",
       "      dtype='object')"
      ]
     },
     "metadata": {},
     "output_type": "display_data"
    }
   ],
   "source": [
    "with pd.option_context('display.max_seq_items', None,\n",
    "                       'display.max_rows', None,\n",
    "                       'display.max_columns', None,\n",
    "                       'display.width', None):\n",
    "    display(t.columns)"
   ]
  },
  {
   "cell_type": "code",
   "execution_count": 168,
   "id": "e142078e-7625-445c-a937-c4e639f3c119",
   "metadata": {},
   "outputs": [],
   "source": [
    "# 결측치가 70% 이상인 feature drop\n",
    "t = t.fillna(-4)\n",
    "cols_to_delete = t.columns[(t == -4).sum()/len(t) > .70]\n",
    "\n",
    "# 테스트 버전에서는 실제 drop 하지 않으나 실제 학습시에는 drop\n",
    "t.drop(cols_to_delete, axis = 1, inplace = True)"
   ]
  },
  {
   "cell_type": "code",
   "execution_count": 169,
   "id": "bdefaeee",
   "metadata": {},
   "outputs": [
    {
     "data": {
      "text/plain": [
       "Index(['RID', 'PTID', 'Phase', 'VISCODE', 'VISCODE2', 'VISDATE', 'PTGENDER',\n",
       "       'PTDOB', 'PTDOBYY', 'PTHAND', 'PTMARRY', 'PTEDUCAT', 'PTNOTRT',\n",
       "       'PTRTYR', 'PTHOME', 'PTTLANG', 'PTPLANG', 'PTCOGBEG', 'PTADDX',\n",
       "       'PTETHCAT', 'PTRACCAT', 'NXVISUAL', 'NXAUDITO', 'NXTREMOR', 'NXCONSCI',\n",
       "       'NXNERVE', 'NXMOTOR', 'NXFINGER', 'NXHEEL', 'NXSENSOR', 'NXTENDON',\n",
       "       'NXPLANTA', 'NXGAIT', 'NXOTHER', 'NXABNORM', 'SUBJID', 'EXAMDATE',\n",
       "       'PHC_Visit', 'PHC_Age_Cognition', 'PHC_Sex', 'PHC_Race',\n",
       "       'PHC_Ethnicity', 'PHC_Education', 'PHC_MEM', 'PHC_MEM_SE',\n",
       "       'PHC_MEM_PreciseFilter', 'PHC_EXF', 'PHC_EXF_SE',\n",
       "       'PHC_EXF_PreciseFilter', 'PHC_LAN', 'PHC_LAN_SE',\n",
       "       'PHC_LAN_PreciseFilter', 'PHC_VSP', 'PHC_VSP_SE',\n",
       "       'PHC_VSP_PreciseFilter', 'Group'],\n",
       "      dtype='object')"
      ]
     },
     "metadata": {},
     "output_type": "display_data"
    }
   ],
   "source": [
    "with pd.option_context('display.max_seq_items', None,\n",
    "                       'display.max_rows', None,\n",
    "                       'display.max_columns', None,\n",
    "                       'display.width', None):\n",
    "    display(t.columns)"
   ]
  },
  {
   "cell_type": "code",
   "execution_count": 42,
   "id": "34a79985",
   "metadata": {},
   "outputs": [],
   "source": [
    "##### One-hot Encoding #####\n",
    "\n",
    "# 원본 수정한 버전"
   ]
  },
  {
   "cell_type": "code",
   "execution_count": 170,
   "id": "533b3163-9c32-44a2-ad26-a7507780cf9c",
   "metadata": {},
   "outputs": [],
   "source": [
    "KEY_COLS    = [\"PTID\", \"RID\", \"Phase\", \"Group\", \"PHC_Visit\", \"VISCODE\", \"VISCODE2\"]                         # 존재하면 앞으로 고정\n",
    "DROP_COLS = [\"PTADDX\", \"PTCOGBEG\", \"PTDOBYY\", \"PTRTYR\"] # 치매 확진 년도, 증상 인지 시작 년도, 태어난 년도, 은퇴 년도\n",
    "CAT_MAX_UNIQUE = 10   # 이 값 이하의 카디널리티면 범주형으로 간주 (int/float/obj 공통)\n",
    "KEEP_DUMMY_NA  = True # 결측(여기선 -4→NaN)을 별도 더미로 보관할지 여부\n",
    "SENTINEL       = -4   # 이전 단계에서 사용한 결측 대체값\n",
    "TEXT_COLS = []\n",
    "\n",
    "# 숫자로 판별되는 feature는 numeric 형으로 변환\n",
    "def to_numeric_safe(s: pd.Series) -> pd.Series:\n",
    "    out = pd.to_numeric(s, errors=\"ignore\")\n",
    "    # 숫자가 된 경우에만 그대로 반환 (object로 남은 건 원문 유지)\n",
    "    return out\n",
    "\n",
    "\n",
    "# 결측 처리 규칙: -4는 결측으로 취급 (원핫에서 dummy_na로 쓰고, 수치형은 NaN으로)\n",
    "def mark_na(s: pd.Series) -> pd.Series:\n",
    "    if pd.api.types.is_numeric_dtype(s):\n",
    "        return s.replace(SENTINEL, np.nan)\n",
    "    # object일 때도 -4(숫자)가 들어있을 수 있으니 같이 치환\n",
    "    return s.replace(SENTINEL, np.nan)"
   ]
  },
  {
   "cell_type": "code",
   "execution_count": 171,
   "id": "446979b3",
   "metadata": {},
   "outputs": [],
   "source": [
    "# 2) -4 문자열을 숫자 -4로 통일 (혹시 문자열로 저장된 경우)\n",
    "t = t.replace(str(SENTINEL), SENTINEL)\n",
    "\n",
    "for col in t.columns:\n",
    "    t[col] = to_numeric_safe(t[col])"
   ]
  },
  {
   "cell_type": "code",
   "execution_count": 172,
   "id": "5ff1d91e",
   "metadata": {},
   "outputs": [],
   "source": [
    "# 3) 학습에 필요없는 DROP_COL 제거\n",
    "\n",
    "t = t.drop(columns=DROP_COLS)"
   ]
  },
  {
   "cell_type": "code",
   "execution_count": 173,
   "id": "582b3670",
   "metadata": {},
   "outputs": [
    {
     "data": {
      "text/plain": [
       "['PTID', 'RID', 'Phase', 'Group', 'PHC_Visit', 'VISCODE', 'VISCODE2']"
      ]
     },
     "execution_count": 173,
     "metadata": {},
     "output_type": "execute_result"
    }
   ],
   "source": [
    "# 4) KEY_COLS가 실제로 존재하는지 정제 (순서 유지)\n",
    "key_cols = [c for c in KEY_COLS if c in t.columns]\n",
    "key_cols"
   ]
  },
  {
   "cell_type": "code",
   "execution_count": 174,
   "id": "02de9023",
   "metadata": {},
   "outputs": [],
   "source": [
    "# 5) 결측 처리\n",
    "t = t.apply(mark_na)"
   ]
  },
  {
   "cell_type": "code",
   "execution_count": 175,
   "id": "33730a8d",
   "metadata": {},
   "outputs": [
    {
     "data": {
      "text/plain": [
       "[]"
      ]
     },
     "execution_count": 175,
     "metadata": {},
     "output_type": "execute_result"
    }
   ],
   "source": [
    "# 6) 텍스트(자유서술형) 열 제외 목록 확정\n",
    "text_cols = [c for c in TEXT_COLS if c in t.columns]\n",
    "text_cols"
   ]
  },
  {
   "cell_type": "code",
   "execution_count": 177,
   "id": "9892a6ab",
   "metadata": {},
   "outputs": [],
   "source": [
    "# 7) 열 타입/카디널리티 기반으로 범주형/수치형 자동 분류\n",
    "#    - object형은 기본적으로 범주형\n",
    "#    - 숫자형 중에서도 unique 값이 적으면 코드형으로 간주하여 범주형에 포함\n",
    "\n",
    "cat_cols, num_cols = [], []\n",
    "for col in t.columns:\n",
    "    if col in key_cols or col in text_cols:\n",
    "        continue\n",
    "    s = t[col]\n",
    "    nunique = s.nunique(dropna=True)\n",
    "\n",
    "# 아래 코드는 object형, numeric형 feature의 값의 종류가 CAT_MAX_UNIQUE 이하일 경우 범주형으로 전환하는 코드\n",
    "# 테스트 과정에서는 무조건 범주형으로 바뀔 것이므로 비활성화한 상태\n",
    "# 실제 학습 과정에서는 주석 풀고 활성화 시킬 것\n",
    "\n",
    "    if s.dtype == \"object\":\n",
    "        # 장문 텍스트 위험 → TEXT_COLS에 없고 유니크가 너무 크면 제외 권장\n",
    "        # (원핫 폭발 방지) → 여기서는 CAT_MAX_UNIQUE 초과 시 자동으로 수치/제외 쪽으로 빼지 않고, 그냥 제외.\n",
    "        if nunique <= CAT_MAX_UNIQUE:\n",
    "            cat_cols.append(col)\n",
    "        else:\n",
    "            # 고카디널리티 object는 원핫 제외 (필요시 hashing trick/target encoding 고려)\n",
    "            pass\n",
    "    else:\n",
    "        # 숫자형: low-card면 코드형(범주형), 아니면 수치형\n",
    "        if nunique <= CAT_MAX_UNIQUE:\n",
    "            cat_cols.append(col)\n",
    "        else:\n",
    "            num_cols.append(col)\n"
   ]
  },
  {
   "cell_type": "code",
   "execution_count": 178,
   "id": "455a4beb",
   "metadata": {},
   "outputs": [],
   "source": [
    "# cat_cols 확정 후: 존재/중복 정리\n",
    "# cat_cols = [c for c in cat_cols if c in t.columns]\n",
    "# cat_cols = list(dict.fromkeys(cat_cols))\n",
    "\n",
    "# 숫자라도 범주로 취급되도록 dtype을 category로 변환\n",
    "t[cat_cols] = t[cat_cols].apply(lambda s: s.astype('category'))"
   ]
  },
  {
   "cell_type": "code",
   "execution_count": 179,
   "id": "925c4e1d",
   "metadata": {},
   "outputs": [
    {
     "data": {
      "text/plain": [
       "['PTGENDER',\n",
       " 'PTHAND',\n",
       " 'PTMARRY',\n",
       " 'PTNOTRT',\n",
       " 'PTHOME',\n",
       " 'PTTLANG',\n",
       " 'PTPLANG',\n",
       " 'PTETHCAT',\n",
       " 'PTRACCAT',\n",
       " 'NXVISUAL',\n",
       " 'NXAUDITO',\n",
       " 'NXTREMOR',\n",
       " 'NXCONSCI',\n",
       " 'NXNERVE',\n",
       " 'NXMOTOR',\n",
       " 'NXFINGER',\n",
       " 'NXHEEL',\n",
       " 'NXSENSOR',\n",
       " 'NXTENDON',\n",
       " 'NXPLANTA',\n",
       " 'NXGAIT',\n",
       " 'NXOTHER',\n",
       " 'NXABNORM',\n",
       " 'PHC_Sex',\n",
       " 'PHC_Race',\n",
       " 'PHC_Ethnicity',\n",
       " 'PHC_MEM_PreciseFilter',\n",
       " 'PHC_EXF_PreciseFilter',\n",
       " 'PHC_LAN_PreciseFilter',\n",
       " 'PHC_VSP_PreciseFilter']"
      ]
     },
     "execution_count": 179,
     "metadata": {},
     "output_type": "execute_result"
    }
   ],
   "source": [
    "cat_cols"
   ]
  },
  {
   "cell_type": "code",
   "execution_count": 180,
   "id": "e10ec232",
   "metadata": {},
   "outputs": [],
   "source": [
    "# 8) 원핫 인코딩 (uint8로 메모리 절감, dummy_na로 결측 더미 보존 옵션)\n",
    "#    - 열 이름 충돌 방지 위해 prefix=열이름 통일\n",
    "cat_df = pd.get_dummies(\n",
    "    t[cat_cols],\n",
    "    dtype=\"uint8\",\n",
    "    dummy_na=KEEP_DUMMY_NA\n",
    ") if cat_cols else pd.DataFrame(index=t.index)"
   ]
  },
  {
   "cell_type": "code",
   "execution_count": 181,
   "id": "9d80e6d9",
   "metadata": {},
   "outputs": [
    {
     "data": {
      "text/plain": [
       "Index(['PTGENDER_1.0', 'PTGENDER_2.0', 'PTGENDER_nan', 'PTHAND_1.0',\n",
       "       'PTHAND_2.0', 'PTHAND_nan', 'PTMARRY_1.0', 'PTMARRY_2.0', 'PTMARRY_3.0',\n",
       "       'PTMARRY_4.0', 'PTMARRY_5.0', 'PTMARRY_nan', 'PTNOTRT_0.0',\n",
       "       'PTNOTRT_1.0', 'PTNOTRT_2.0', 'PTNOTRT_nan', 'PTHOME_1.0', 'PTHOME_2.0',\n",
       "       'PTHOME_3.0', 'PTHOME_4.0', 'PTHOME_5.0', 'PTHOME_6.0', 'PTHOME_7.0',\n",
       "       'PTHOME_8.0', 'PTHOME_nan', 'PTTLANG_1.0', 'PTTLANG_2.0', 'PTTLANG_nan',\n",
       "       'PTPLANG_1.0', 'PTPLANG_2.0', 'PTPLANG_3.0', 'PTPLANG_nan',\n",
       "       'PTETHCAT_1.0', 'PTETHCAT_2.0', 'PTETHCAT_3.0', 'PTETHCAT_nan',\n",
       "       'PTRACCAT_1.0', 'PTRACCAT_2.0', 'PTRACCAT_3.0', 'PTRACCAT_4.0',\n",
       "       'PTRACCAT_5.0', 'PTRACCAT_6.0', 'PTRACCAT_7.0', 'PTRACCAT_nan',\n",
       "       'NXVISUAL_1.0', 'NXVISUAL_2.0', 'NXVISUAL_nan', 'NXAUDITO_1.0',\n",
       "       'NXAUDITO_2.0', 'NXAUDITO_nan', 'NXTREMOR_1.0', 'NXTREMOR_2.0',\n",
       "       'NXTREMOR_nan', 'NXCONSCI_1.0', 'NXCONSCI_2.0', 'NXCONSCI_nan',\n",
       "       'NXNERVE_1.0', 'NXNERVE_2.0', 'NXNERVE_nan', 'NXMOTOR_1.0',\n",
       "       'NXMOTOR_2.0', 'NXMOTOR_nan', 'NXFINGER_1.0', 'NXFINGER_2.0',\n",
       "       'NXFINGER_nan', 'NXHEEL_1.0', 'NXHEEL_2.0', 'NXHEEL_nan',\n",
       "       'NXSENSOR_1.0', 'NXSENSOR_2.0', 'NXSENSOR_nan', 'NXTENDON_1.0',\n",
       "       'NXTENDON_2.0', 'NXTENDON_nan', 'NXPLANTA_1.0', 'NXPLANTA_2.0',\n",
       "       'NXPLANTA_nan', 'NXGAIT_1.0', 'NXGAIT_2.0', 'NXGAIT_nan',\n",
       "       'NXOTHER_-1.0', 'NXOTHER_1.0', 'NXOTHER_2.0', 'NXOTHER_nan',\n",
       "       'NXABNORM_1.0', 'NXABNORM_2.0', 'NXABNORM_nan', 'PHC_Sex_1.0',\n",
       "       'PHC_Sex_2.0', 'PHC_Sex_nan', 'PHC_Race_1.0', 'PHC_Race_2.0',\n",
       "       'PHC_Race_3.0', 'PHC_Race_4.0', 'PHC_Race_5.0', 'PHC_Race_6.0',\n",
       "       'PHC_Race_nan', 'PHC_Ethnicity_1.0', 'PHC_Ethnicity_2.0',\n",
       "       'PHC_Ethnicity_nan', 'PHC_MEM_PreciseFilter_1.0',\n",
       "       'PHC_MEM_PreciseFilter_nan', 'PHC_EXF_PreciseFilter_0.0',\n",
       "       'PHC_EXF_PreciseFilter_1.0', 'PHC_EXF_PreciseFilter_nan',\n",
       "       'PHC_LAN_PreciseFilter_0.0', 'PHC_LAN_PreciseFilter_1.0',\n",
       "       'PHC_LAN_PreciseFilter_nan', 'PHC_VSP_PreciseFilter_0.0',\n",
       "       'PHC_VSP_PreciseFilter_1.0', 'PHC_VSP_PreciseFilter_nan'],\n",
       "      dtype='object')"
      ]
     },
     "metadata": {},
     "output_type": "display_data"
    }
   ],
   "source": [
    "with pd.option_context('display.max_seq_items', None,\n",
    "                       'display.max_rows', None,\n",
    "                       'display.max_columns', None,\n",
    "                       'display.width', None):\n",
    "    display(cat_df.columns)"
   ]
  },
  {
   "cell_type": "code",
   "execution_count": null,
   "id": "782ff26b",
   "metadata": {},
   "outputs": [],
   "source": [
    "# 9) 수치형 처리 (결측은 NaN 유지)\n",
    "num_df = t[num_cols].copy()\n",
    "for col in num_cols:\n",
    "    if not pd.api.types.is_numeric_dtype(num_df[col]):\n",
    "        num_df[col] = pd.to_numeric(num_df[col], errors=\"coerce\")\n",
    "num_df.fillna()\n",
    "# 스케일러 초기화\n",
    "scaler = MinMaxScaler()\n",
    "\n",
    "# 수치형 컬럼을 열 단위로 0~1 정규화\n",
    "num_df_norm = pd.DataFrame(\n",
    "    scaler.fit_transform(num_df),   # ndarray 반환 → DataFrame으로 감싸줌\n",
    "    columns=num_df.columns,         # 원래 컬럼명 유지\n",
    "    index=num_df.index              # 원래 인덱스 유지\n",
    ")"
   ]
  },
  {
   "cell_type": "code",
   "execution_count": 183,
   "id": "4a458e52",
   "metadata": {},
   "outputs": [
    {
     "name": "stdout",
     "output_type": "stream",
     "text": [
      "['PTEDUCAT', 'PHC_Age_Cognition', 'PHC_Education', 'PHC_MEM', 'PHC_MEM_SE', 'PHC_EXF', 'PHC_EXF_SE', 'PHC_LAN', 'PHC_LAN_SE', 'PHC_VSP', 'PHC_VSP_SE']\n",
      "['PTGENDER', 'PTHAND', 'PTMARRY', 'PTNOTRT', 'PTHOME', 'PTTLANG', 'PTPLANG', 'PTETHCAT', 'PTRACCAT', 'NXVISUAL', 'NXAUDITO', 'NXTREMOR', 'NXCONSCI', 'NXNERVE', 'NXMOTOR', 'NXFINGER', 'NXHEEL', 'NXSENSOR', 'NXTENDON', 'NXPLANTA', 'NXGAIT', 'NXOTHER', 'NXABNORM', 'PHC_Sex', 'PHC_Race', 'PHC_Ethnicity', 'PHC_MEM_PreciseFilter', 'PHC_EXF_PreciseFilter', 'PHC_LAN_PreciseFilter', 'PHC_VSP_PreciseFilter']\n"
     ]
    }
   ],
   "source": [
    "with pd.option_context('display.max_seq_items', None,\n",
    "                       'display.max_rows', None,\n",
    "                       'display.max_columns', None,\n",
    "                       'display.width', None):\n",
    "    print(num_cols)\n",
    "    print(cat_cols)"
   ]
  },
  {
   "cell_type": "code",
   "execution_count": 184,
   "id": "6a28204e",
   "metadata": {},
   "outputs": [],
   "source": [
    "# 10) 결과 결합: [KEY] + 원핫 + 수치\n",
    "out_parts = []\n",
    "if key_cols: out_parts.append(t[key_cols])\n",
    "if not cat_df.empty: out_parts.append(cat_df)\n",
    "if not num_df.empty: out_parts.append(num_df)\n",
    "\n",
    "out = pd.concat(out_parts, axis=1)"
   ]
  },
  {
   "cell_type": "code",
   "execution_count": 185,
   "id": "dc46f40f",
   "metadata": {},
   "outputs": [
    {
     "data": {
      "text/plain": [
       "Index(['PTID', 'RID', 'Phase', 'Group', 'PHC_Visit', 'VISCODE', 'VISCODE2',\n",
       "       'PTGENDER_1.0', 'PTGENDER_2.0', 'PTGENDER_nan', 'PTHAND_1.0',\n",
       "       'PTHAND_2.0', 'PTHAND_nan', 'PTMARRY_1.0', 'PTMARRY_2.0', 'PTMARRY_3.0',\n",
       "       'PTMARRY_4.0', 'PTMARRY_5.0', 'PTMARRY_nan', 'PTNOTRT_0.0',\n",
       "       'PTNOTRT_1.0', 'PTNOTRT_2.0', 'PTNOTRT_nan', 'PTHOME_1.0', 'PTHOME_2.0',\n",
       "       'PTHOME_3.0', 'PTHOME_4.0', 'PTHOME_5.0', 'PTHOME_6.0', 'PTHOME_7.0',\n",
       "       'PTHOME_8.0', 'PTHOME_nan', 'PTTLANG_1.0', 'PTTLANG_2.0', 'PTTLANG_nan',\n",
       "       'PTPLANG_1.0', 'PTPLANG_2.0', 'PTPLANG_3.0', 'PTPLANG_nan',\n",
       "       'PTETHCAT_1.0', 'PTETHCAT_2.0', 'PTETHCAT_3.0', 'PTETHCAT_nan',\n",
       "       'PTRACCAT_1.0', 'PTRACCAT_2.0', 'PTRACCAT_3.0', 'PTRACCAT_4.0',\n",
       "       'PTRACCAT_5.0', 'PTRACCAT_6.0', 'PTRACCAT_7.0', 'PTRACCAT_nan',\n",
       "       'NXVISUAL_1.0', 'NXVISUAL_2.0', 'NXVISUAL_nan', 'NXAUDITO_1.0',\n",
       "       'NXAUDITO_2.0', 'NXAUDITO_nan', 'NXTREMOR_1.0', 'NXTREMOR_2.0',\n",
       "       'NXTREMOR_nan', 'NXCONSCI_1.0', 'NXCONSCI_2.0', 'NXCONSCI_nan',\n",
       "       'NXNERVE_1.0', 'NXNERVE_2.0', 'NXNERVE_nan', 'NXMOTOR_1.0',\n",
       "       'NXMOTOR_2.0', 'NXMOTOR_nan', 'NXFINGER_1.0', 'NXFINGER_2.0',\n",
       "       'NXFINGER_nan', 'NXHEEL_1.0', 'NXHEEL_2.0', 'NXHEEL_nan',\n",
       "       'NXSENSOR_1.0', 'NXSENSOR_2.0', 'NXSENSOR_nan', 'NXTENDON_1.0',\n",
       "       'NXTENDON_2.0', 'NXTENDON_nan', 'NXPLANTA_1.0', 'NXPLANTA_2.0',\n",
       "       'NXPLANTA_nan', 'NXGAIT_1.0', 'NXGAIT_2.0', 'NXGAIT_nan',\n",
       "       'NXOTHER_-1.0', 'NXOTHER_1.0', 'NXOTHER_2.0', 'NXOTHER_nan',\n",
       "       'NXABNORM_1.0', 'NXABNORM_2.0', 'NXABNORM_nan', 'PHC_Sex_1.0',\n",
       "       'PHC_Sex_2.0', 'PHC_Sex_nan', 'PHC_Race_1.0', 'PHC_Race_2.0',\n",
       "       'PHC_Race_3.0', 'PHC_Race_4.0', 'PHC_Race_5.0', 'PHC_Race_6.0',\n",
       "       'PHC_Race_nan', 'PHC_Ethnicity_1.0', 'PHC_Ethnicity_2.0',\n",
       "       'PHC_Ethnicity_nan', 'PHC_MEM_PreciseFilter_1.0',\n",
       "       'PHC_MEM_PreciseFilter_nan', 'PHC_EXF_PreciseFilter_0.0',\n",
       "       'PHC_EXF_PreciseFilter_1.0', 'PHC_EXF_PreciseFilter_nan',\n",
       "       'PHC_LAN_PreciseFilter_0.0', 'PHC_LAN_PreciseFilter_1.0',\n",
       "       'PHC_LAN_PreciseFilter_nan', 'PHC_VSP_PreciseFilter_0.0',\n",
       "       'PHC_VSP_PreciseFilter_1.0', 'PHC_VSP_PreciseFilter_nan', 'PTEDUCAT',\n",
       "       'PHC_Age_Cognition', 'PHC_Education', 'PHC_MEM', 'PHC_MEM_SE',\n",
       "       'PHC_EXF', 'PHC_EXF_SE', 'PHC_LAN', 'PHC_LAN_SE', 'PHC_VSP',\n",
       "       'PHC_VSP_SE'],\n",
       "      dtype='object')"
      ]
     },
     "metadata": {},
     "output_type": "display_data"
    }
   ],
   "source": [
    "with pd.option_context('display.max_seq_items', None,\n",
    "                       'display.max_rows', None,\n",
    "                       'display.max_columns', None,\n",
    "                       'display.width', None):\n",
    "    display(out.columns)"
   ]
  },
  {
   "cell_type": "code",
   "execution_count": null,
   "id": "edfee0d5",
   "metadata": {},
   "outputs": [],
   "source": [
    "# 11) 가장 최근의 진단 결과만 남기기\n",
    "\n",
    "# 각 환자에 대햐여 가장 최근의 진단 결과만 남긴다\n",
    "# 각 환자에 대한 과거의 테스트 기록이 없어지게 되는 코드이지만 원본 코드에도 존재하는 부분이었음\n",
    "\n",
    "# out = out.groupby('PTID', group_keys=False).apply(lambda x: x.loc[x[\"Group\"].astype(int).idxmax()]).drop(\"PTID\", axis = 1).reset_index(inplace=False)\n",
    "\n",
    "out['PHC_Visit'] = pd.to_numeric(out['PHC_Visit'], errors='coerce')\n",
    "out = out.loc[out.groupby('PTID')['PHC_Visit'].idxmax()].drop(columns=['PHC_Visit']).reset_index(drop=True)\n",
    "key_cols.remove('PHC_Visit')"
   ]
  },
  {
   "cell_type": "code",
   "execution_count": 189,
   "id": "8fbe85f8",
   "metadata": {},
   "outputs": [],
   "source": [
    "# 12) 열 순서 고정(재현성): KEY → cat(사전순) → num(사전순)\n",
    "ordered_cols = []\n",
    "ordered_cols += key_cols\n",
    "ordered_cols += sorted([c for c in out.columns if c not in key_cols and c in cat_df.columns])\n",
    "ordered_cols += sorted([c for c in out.columns if c not in key_cols and c in num_df.columns])\n",
    "out = out[ordered_cols]"
   ]
  },
  {
   "cell_type": "code",
   "execution_count": 190,
   "id": "f03efb0c",
   "metadata": {},
   "outputs": [],
   "source": [
    "# 13) csv 파일 생성\n",
    "out.to_csv(\"D:/Desktop/aicoss-model/preprocessed/clinical.csv\")\n",
    "\n",
    "### 최종 전처리 결과물: clinical.csv"
   ]
  },
  {
   "cell_type": "code",
   "execution_count": 121,
   "id": "bdd4f986",
   "metadata": {},
   "outputs": [],
   "source": [
    "# 14) train_test_split 및 pkl 파일 생성\n",
    "\n",
    "# X는 'Group' 열을 제외한 데이터프레임, Y는 'Group' 열\n",
    "X = out.drop(columns=['Group', 'VISCODE','VISCODE2'])\n",
    "y = out['Group']\n",
    "\n",
    "# 데이터 분할 (예: 80% train, 20% test)\n",
    "X_train, X_test, y_train, y_test = train_test_split(X, y, test_size=0.1, random_state=42)\n",
    "\n",
    "X_train.to_pickle(\"D:/Desktop/aicoss-model/preprocessed/X_train_c.pkl\")\n",
    "y_train.to_pickle(\"D:/Desktop/aicoss-model/preprocessed/y_train_c.pkl\")\n",
    "\n",
    "X_test.to_pickle(\"D:/Desktop/aicoss-model/preprocessed/X_test_c.pkl\")\n",
    "y_test.to_pickle(\"D:/Desktop/aicoss-model/preprocessed/y_test_c.pkl\")"
   ]
  }
 ],
 "metadata": {
  "kernelspec": {
   "display_name": "env37 (3.7.4)",
   "language": "python",
   "name": "python3"
  },
  "language_info": {
   "codemirror_mode": {
    "name": "ipython",
    "version": 3
   },
   "file_extension": ".py",
   "mimetype": "text/x-python",
   "name": "python",
   "nbconvert_exporter": "python",
   "pygments_lexer": "ipython3",
   "version": "3.7.4"
  }
 },
 "nbformat": 4,
 "nbformat_minor": 5
}
